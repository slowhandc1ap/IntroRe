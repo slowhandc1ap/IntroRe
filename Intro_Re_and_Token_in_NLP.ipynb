{
  "nbformat": 4,
  "nbformat_minor": 0,
  "metadata": {
    "colab": {
      "provenance": [],
      "include_colab_link": true
    },
    "kernelspec": {
      "name": "python3",
      "display_name": "Python 3"
    },
    "language_info": {
      "name": "python"
    }
  },
  "cells": [
    {
      "cell_type": "markdown",
      "metadata": {
        "id": "view-in-github",
        "colab_type": "text"
      },
      "source": [
        "<a href=\"https://colab.research.google.com/github/slowhandc1ap/IntroRe/blob/main/Intro_Re_and_Token_in_NLP.ipynb\" target=\"_parent\"><img src=\"https://colab.research.google.com/assets/colab-badge.svg\" alt=\"Open In Colab\"/></a>"
      ]
    },
    {
      "cell_type": "markdown",
      "source": [
        "# Introduction to Regular Expression and Tokenization"
      ],
      "metadata": {
        "id": "3dHiX-nrJgpZ"
      }
    },
    {
      "cell_type": "code",
      "execution_count": 1,
      "metadata": {
        "id": "QFbZ3nntI0lX"
      },
      "outputs": [],
      "source": [
        "import re"
      ]
    },
    {
      "cell_type": "markdown",
      "source": [
        "#Match"
      ],
      "metadata": {
        "id": "vcBLWUgYkNoX"
      }
    },
    {
      "cell_type": "code",
      "source": [
        "s = 'GeeksforGeeks: A computer science portal for geeks.'\n",
        "\n",
        "re.match('Geeks',s)"
      ],
      "metadata": {
        "colab": {
          "base_uri": "https://localhost:8080/"
        },
        "id": "XXuFceC9Je-v",
        "outputId": "9303c05c-9ea8-4c1e-d6d8-ee570bf0b93f"
      },
      "execution_count": 2,
      "outputs": [
        {
          "output_type": "execute_result",
          "data": {
            "text/plain": [
              "<re.Match object; span=(0, 5), match='Geeks'>"
            ]
          },
          "metadata": {},
          "execution_count": 2
        }
      ]
    },
    {
      "cell_type": "code",
      "source": [
        "re.match('\\w+',s)"
      ],
      "metadata": {
        "colab": {
          "base_uri": "https://localhost:8080/"
        },
        "id": "3pORqWgIJ59H",
        "outputId": "2e501e1b-2a20-46ac-995e-788b69652342"
      },
      "execution_count": 3,
      "outputs": [
        {
          "output_type": "execute_result",
          "data": {
            "text/plain": [
              "<re.Match object; span=(0, 13), match='GeeksforGeeks'>"
            ]
          },
          "metadata": {},
          "execution_count": 3
        }
      ]
    },
    {
      "cell_type": "code",
      "source": [
        "# Match strings starting with \"The\"\n",
        "regex = r'^The'\n",
        "strings = ['The quick brown fox', 'The lazy dog', 'A quick brown fox']\n",
        "for string in strings:\n",
        "    if re.match(regex, string):\n",
        "        print(f'Matched: {string}')\n",
        "    else:\n",
        "        print(f'Not matched: {string}')"
      ],
      "metadata": {
        "colab": {
          "base_uri": "https://localhost:8080/"
        },
        "id": "zYGxagc-LJ1-",
        "outputId": "75a0aae5-265a-411f-cce4-a3f9e6b889b1"
      },
      "execution_count": 4,
      "outputs": [
        {
          "output_type": "stream",
          "name": "stdout",
          "text": [
            "Matched: The quick brown fox\n",
            "Matched: The lazy dog\n",
            "Not matched: A quick brown fox\n"
          ]
        }
      ]
    },
    {
      "cell_type": "markdown",
      "source": [
        "#Split"
      ],
      "metadata": {
        "id": "rOen4v_ckQAX"
      }
    },
    {
      "cell_type": "code",
      "source": [
        "from re import split\n",
        "print(split('\\W+', 'Words, words , Words'))\n",
        "print(split('\\W+', \"Word's words Words\"))"
      ],
      "metadata": {
        "colab": {
          "base_uri": "https://localhost:8080/"
        },
        "id": "zgnzVzPZMndV",
        "outputId": "bb047a5e-66c9-48af-d456-beaec09a933f"
      },
      "execution_count": 5,
      "outputs": [
        {
          "output_type": "stream",
          "name": "stdout",
          "text": [
            "['Words', 'words', 'Words']\n",
            "['Word', 's', 'words', 'Words']\n"
          ]
        }
      ]
    },
    {
      "cell_type": "code",
      "source": [
        "s = 'A! B. C D'\n",
        "pattern = r'\\W+'  #\\W ใช้แทนสิ่งที่ไม่ใช่ตัวเลข, ตัวอักษร และ _\n",
        "\n",
        "l = re.split(pattern, s)\n",
        "print(l)"
      ],
      "metadata": {
        "colab": {
          "base_uri": "https://localhost:8080/"
        },
        "id": "OsI2QaZhkSR_",
        "outputId": "f687ddee-7a47-452f-ba2d-8728a5843094"
      },
      "execution_count": 6,
      "outputs": [
        {
          "output_type": "stream",
          "name": "stdout",
          "text": [
            "['A', 'B', 'C', 'D']\n"
          ]
        }
      ]
    },
    {
      "cell_type": "code",
      "source": [
        "print(split('\\W+', 'On 12th Jan 2016, at 11:02 AM'))"
      ],
      "metadata": {
        "colab": {
          "base_uri": "https://localhost:8080/"
        },
        "id": "Q1YvA-WDNGcR",
        "outputId": "afb6f1e2-93cd-4fa2-ca39-58191c3068f7"
      },
      "execution_count": 7,
      "outputs": [
        {
          "output_type": "stream",
          "name": "stdout",
          "text": [
            "['On', '12th', 'Jan', '2016', 'at', '11', '02', 'AM']\n"
          ]
        }
      ]
    },
    {
      "cell_type": "code",
      "source": [
        "print(split('\\d+', 'On 12th Jan 2016, at 11:02 AM'))"
      ],
      "metadata": {
        "colab": {
          "base_uri": "https://localhost:8080/"
        },
        "id": "c3jfk-yfNLBQ",
        "outputId": "3572cd06-5672-47f2-cb94-2664cf4ab2c6"
      },
      "execution_count": 8,
      "outputs": [
        {
          "output_type": "stream",
          "name": "stdout",
          "text": [
            "['On ', 'th Jan ', ', at ', ':', ' AM']\n"
          ]
        }
      ]
    },
    {
      "cell_type": "code",
      "source": [
        "print(re.split('[a-f]+', 'Aey, Boy oh boy, come here', flags=re.IGNORECASE))\n",
        "print(re.split('[a-f]+', 'Aey, Boy oh boy, come here'))"
      ],
      "metadata": {
        "colab": {
          "base_uri": "https://localhost:8080/"
        },
        "id": "8yilFlm9iKPI",
        "outputId": "96479fcf-c8ab-4bc2-f795-31371c557326"
      },
      "execution_count": 9,
      "outputs": [
        {
          "output_type": "stream",
          "name": "stdout",
          "text": [
            "['', 'y, ', 'oy oh ', 'oy, ', 'om', ' h', 'r', '']\n",
            "['A', 'y, Boy oh ', 'oy, ', 'om', ' h', 'r', '']\n"
          ]
        }
      ]
    },
    {
      "cell_type": "markdown",
      "source": [
        "#Findall"
      ],
      "metadata": {
        "id": "X_x5yuykmOoK"
      }
    },
    {
      "cell_type": "code",
      "source": [
        "string = \"\"\"Hello my Number is 123456789 and\n",
        "            my friend's number is 987654321\"\"\"\n",
        "\n",
        "# A sample regular expression to find digits.\n",
        "regex = '\\d+'\n",
        "\n",
        "match = re.findall(regex, string)\n",
        "print(match)"
      ],
      "metadata": {
        "colab": {
          "base_uri": "https://localhost:8080/"
        },
        "id": "5tDRLcZlNOd_",
        "outputId": "9d6a5417-ac4b-4788-ab38-fad084c6d0c6"
      },
      "execution_count": 10,
      "outputs": [
        {
          "output_type": "stream",
          "name": "stdout",
          "text": [
            "['123456789', '987654321']\n"
          ]
        }
      ]
    },
    {
      "cell_type": "code",
      "source": [
        "email_str = '''the emails are support@codecademy.com or help@codecademy.com'''\n",
        "\n",
        "emails = re.findall(r\"\\S+@\\S+\", email_str)\n",
        "# \\S matches any character except a space, tab or newline\n",
        "\n",
        "print(emails)\n"
      ],
      "metadata": {
        "colab": {
          "base_uri": "https://localhost:8080/"
        },
        "id": "-xLp4raeiIZt",
        "outputId": "7e783239-279e-4e18-831b-28a0e13db1a1"
      },
      "execution_count": 11,
      "outputs": [
        {
          "output_type": "stream",
          "name": "stdout",
          "text": [
            "['support@codecademy.com', 'help@codecademy.com']\n"
          ]
        }
      ]
    },
    {
      "cell_type": "markdown",
      "source": [
        "# Exercise"
      ],
      "metadata": {
        "id": "uHEdWrQ-OHUP"
      }
    },
    {
      "cell_type": "code",
      "source": [
        "target_string = \"My name is maximums and my luck numbers are 12 45 78\"\n",
        "# split on white-space\n",
        "print(split('\\W+', target_string))\n",
        "\n",
        "# Output ['My', 'name', 'is', 'maximums', 'and', 'my', 'luck', 'numbers', 'are', '12', '45', '78']"
      ],
      "metadata": {
        "colab": {
          "base_uri": "https://localhost:8080/"
        },
        "id": "NHU0uqj1NgWO",
        "outputId": "d2ca235e-b8dd-4408-d8dc-15d91cab743a"
      },
      "execution_count": 14,
      "outputs": [
        {
          "output_type": "stream",
          "name": "stdout",
          "text": [
            "['My', 'name', 'is', 'maximums', 'and', 'my', 'luck', 'numbers', 'are', '12', '45', '78']\n"
          ]
        }
      ]
    },
    {
      "cell_type": "code",
      "source": [
        "str = 'foo635bar4125mango2apple21orange'\n",
        "#split with regular expression\n",
        "print(split('\\d+', str))\n",
        "\n",
        "#OUtput ['foo', 'bar', 'mango', 'apple', 'orange']"
      ],
      "metadata": {
        "colab": {
          "base_uri": "https://localhost:8080/"
        },
        "id": "G4zkc6dtigoW",
        "outputId": "c4b0a20c-1608-411d-f815-d34fc3756e37"
      },
      "execution_count": 17,
      "outputs": [
        {
          "output_type": "stream",
          "name": "stdout",
          "text": [
            "['foo', 'bar', 'mango', 'apple', 'orange']\n"
          ]
        }
      ]
    },
    {
      "cell_type": "code",
      "source": [
        "\n",
        "text = \"Visit our website at https://www.sparkbyexamples.com  and https://www.oracle.com  for more coding tutorials.\"\n",
        "emails = re.findall(r\"\\S+:\\S+\", text)\n",
        "# \\S matches any character except a space, tab or newline\n",
        "\n",
        "print(emails)\n",
        "#Output ['https://www.sparkbyexamples.com', 'https://www.oracle.com']"
      ],
      "metadata": {
        "colab": {
          "base_uri": "https://localhost:8080/"
        },
        "id": "Q788Q3Uunhae",
        "outputId": "aae9c842-8224-43ab-a851-9830e96f78d9"
      },
      "execution_count": 18,
      "outputs": [
        {
          "output_type": "stream",
          "name": "stdout",
          "text": [
            "['https://www.sparkbyexamples.com', 'https://www.oracle.com']\n"
          ]
        }
      ]
    },
    {
      "cell_type": "markdown",
      "source": [
        "#Tokenization"
      ],
      "metadata": {
        "id": "2Lc9-B0ovqtO"
      }
    },
    {
      "cell_type": "code",
      "source": [
        "#word tokenization using split\n",
        "text = \"\"\"There are multiple ways we can perform tokenization on given text data. We can choose any method based on langauge, library and purpose of modeling.\"\"\"\n",
        "# Split text by whitespace\n",
        "tokens = text.split()\n",
        "print(tokens)"
      ],
      "metadata": {
        "colab": {
          "base_uri": "https://localhost:8080/"
        },
        "id": "MQvhUjhvvtg8",
        "outputId": "60236fe4-a3fb-4f96-ed9e-67abcf73a48f"
      },
      "execution_count": 19,
      "outputs": [
        {
          "output_type": "stream",
          "name": "stdout",
          "text": [
            "['There', 'are', 'multiple', 'ways', 'we', 'can', 'perform', 'tokenization', 'on', 'given', 'text', 'data.', 'We', 'can', 'choose', 'any', 'method', 'based', 'on', 'langauge,', 'library', 'and', 'purpose', 'of', 'modeling.']\n"
          ]
        }
      ]
    },
    {
      "cell_type": "markdown",
      "source": [
        "**Tokenization Using NLTK **\n",
        "\n",
        "Natural Language Toolkit (NLTK) is library written in python for natural language processing.\n",
        "NLTK has module word_tokenize() for word tokenization and sent_tokenize() for sentence tokenization.\n",
        "\n"
      ],
      "metadata": {
        "id": "S3L1oOZewOQN"
      }
    },
    {
      "cell_type": "code",
      "source": [
        "pip install nltk"
      ],
      "metadata": {
        "colab": {
          "base_uri": "https://localhost:8080/"
        },
        "id": "qDD5-wkjwiSN",
        "outputId": "734a6506-375c-478a-eb6e-49e95be3d5a4"
      },
      "execution_count": 20,
      "outputs": [
        {
          "output_type": "stream",
          "name": "stdout",
          "text": [
            "Requirement already satisfied: nltk in /usr/local/lib/python3.10/dist-packages (3.8.1)\n",
            "Requirement already satisfied: click in /usr/local/lib/python3.10/dist-packages (from nltk) (8.1.7)\n",
            "Requirement already satisfied: joblib in /usr/local/lib/python3.10/dist-packages (from nltk) (1.3.2)\n",
            "Requirement already satisfied: regex>=2021.8.3 in /usr/local/lib/python3.10/dist-packages (from nltk) (2023.6.3)\n",
            "Requirement already satisfied: tqdm in /usr/local/lib/python3.10/dist-packages (from nltk) (4.66.1)\n"
          ]
        }
      ]
    },
    {
      "cell_type": "code",
      "source": [
        "import nltk\n",
        "nltk.download('punkt') #Punkt Sentence Tokenizer"
      ],
      "metadata": {
        "colab": {
          "base_uri": "https://localhost:8080/"
        },
        "id": "7sq1Q6VBwu0d",
        "outputId": "d5011a7c-9939-4209-d2b1-9a9a74ee6c54"
      },
      "execution_count": 21,
      "outputs": [
        {
          "output_type": "stream",
          "name": "stderr",
          "text": [
            "[nltk_data] Downloading package punkt to /root/nltk_data...\n",
            "[nltk_data]   Unzipping tokenizers/punkt.zip.\n"
          ]
        },
        {
          "output_type": "execute_result",
          "data": {
            "text/plain": [
              "True"
            ]
          },
          "metadata": {},
          "execution_count": 21
        }
      ]
    },
    {
      "cell_type": "code",
      "source": [
        "from nltk.tokenize import word_tokenize\n",
        "\n",
        "text = \"\"\"There are multiple ways we can perform tokenization on given text data. We can choose any method based on langauge, library and purpose of modeling.\"\"\"\n",
        "tokens = word_tokenize(text)\n",
        "print(tokens)"
      ],
      "metadata": {
        "colab": {
          "base_uri": "https://localhost:8080/"
        },
        "id": "nnzn7BE0wSWV",
        "outputId": "6be79363-791b-4ee9-f30d-8d0e19adc821"
      },
      "execution_count": 22,
      "outputs": [
        {
          "output_type": "stream",
          "name": "stdout",
          "text": [
            "['There', 'are', 'multiple', 'ways', 'we', 'can', 'perform', 'tokenization', 'on', 'given', 'text', 'data', '.', 'We', 'can', 'choose', 'any', 'method', 'based', 'on', 'langauge', ',', 'library', 'and', 'purpose', 'of', 'modeling', '.']\n"
          ]
        }
      ]
    },
    {
      "cell_type": "code",
      "source": [
        "from nltk.tokenize import sent_tokenize\n",
        "\n",
        "text = \"\"\"Characters like periods, exclamation point and newline char are used to separate the sentences. But one drawback with split() method, that we can only use one separator at a time! So sentence tonenization wont be foolproof with split() method.\"\"\"\n",
        "sent_tokenize(text)"
      ],
      "metadata": {
        "colab": {
          "base_uri": "https://localhost:8080/"
        },
        "id": "abaMAvegxLkE",
        "outputId": "63e98850-ae14-4c12-aa41-4d2477b0b2b8"
      },
      "execution_count": 23,
      "outputs": [
        {
          "output_type": "execute_result",
          "data": {
            "text/plain": [
              "['Characters like periods, exclamation point and newline char are used to separate the sentences.',\n",
              " 'But one drawback with split() method, that we can only use one separator at a time!',\n",
              " 'So sentence tonenization wont be foolproof with split() method.']"
            ]
          },
          "metadata": {},
          "execution_count": 23
        }
      ]
    },
    {
      "cell_type": "markdown",
      "source": [
        "# Exercise"
      ],
      "metadata": {
        "id": "IaVRrAasyCGX"
      }
    },
    {
      "cell_type": "markdown",
      "source": [
        "1. ทดลองแบ่งประโยคและตัดคำจากข้อความที่กำหนดให้"
      ],
      "metadata": {
        "id": "hW0s1GDa0LqF"
      }
    },
    {
      "cell_type": "code",
      "source": [
        "EXAMPLE_TEXT = \"Hello Mr. Paul, how are you doing today? The weather is great, and Python is awesome. The sky is pinkish-blue. You shouldn't eat cardboard.\"\n",
        "print(\"SENTENCE TOKENIZE :\")\n",
        "print(sent_tokenize(EXAMPLE_TEXT))\n",
        "print(\"Word  TOKENIZE :\")\n",
        "print(word_tokenize(EXAMPLE_TEXT))"
      ],
      "metadata": {
        "colab": {
          "base_uri": "https://localhost:8080/"
        },
        "id": "I5wjdmDpyQhd",
        "outputId": "aa213192-749f-4940-df83-0aa30928aa89"
      },
      "execution_count": 26,
      "outputs": [
        {
          "output_type": "stream",
          "name": "stdout",
          "text": [
            "SENTENCE TOKENIZE :\n",
            "['Hello Mr. Paul, how are you doing today?', 'The weather is great, and Python is awesome.', 'The sky is pinkish-blue.', \"You shouldn't eat cardboard.\"]\n",
            "Word  TOKENIZE :\n",
            "['Hello', 'Mr.', 'Paul', ',', 'how', 'are', 'you', 'doing', 'today', '?', 'The', 'weather', 'is', 'great', ',', 'and', 'Python', 'is', 'awesome', '.', 'The', 'sky', 'is', 'pinkish-blue', '.', 'You', 'should', \"n't\", 'eat', 'cardboard', '.']\n"
          ]
        }
      ]
    },
    {
      "cell_type": "code",
      "source": [
        "EXAMPLE_TEXT = \"Hello Mr. Paul, how are you doing today? The weather is great, and Python is awesome. The sky is pinkish-blue. You shouldn't eat cardboard.\"\n",
        "\n"
      ],
      "metadata": {
        "colab": {
          "base_uri": "https://localhost:8080/"
        },
        "outputId": "effc9a6c-695b-4f2d-8add-9e0eb821693e",
        "id": "zEATFJt900X2"
      },
      "execution_count": null,
      "outputs": [
        {
          "output_type": "stream",
          "name": "stdout",
          "text": [
            "SENTENCE TOKENIZE :\n",
            "['Hello Mr. Paul, how are you doing today?', 'The weather is great, and Python is awesome.', 'The sky is pinkish-blue.', \"You shouldn't eat cardboard.\"]\n",
            "Word  TOKENIZE :\n",
            "['Hello', 'Mr.', 'Paul', ',', 'how', 'are', 'you', 'doing', 'today', '?', 'The', 'weather', 'is', 'great', ',', 'and', 'Python', 'is', 'awesome', '.', 'The', 'sky', 'is', 'pinkish-blue', '.', 'You', 'should', \"n't\", 'eat', 'cardboard', '.']\n"
          ]
        }
      ]
    },
    {
      "cell_type": "markdown",
      "source": [
        "2. ทดลองตัดคำจากไฟล์ myfile.txt"
      ],
      "metadata": {
        "id": "KhHl2hq70TiV"
      }
    },
    {
      "cell_type": "code",
      "source": [
        "Text = (\"Six police officers have been dismissed from the police force over their alleged involvement in the shooting at a dinner party at the house of a kamnan (tambon chief) in Nakhon Pathom on Wednesday night. In...Please credit and share this article with others using this link:https://www.bangkokpost.com/thailand/general/2644649/6-cops-sacked-over-fatal-shooting-at-wealthy-kamnans-dinner-party. View our policies at http://goo.gl/9HgTd and http://goo.gl/ou6Ip. © Bangkok Post PCL. All rights reserved.\")\n",
        "print(word_tokenize(Text))"
      ],
      "metadata": {
        "colab": {
          "base_uri": "https://localhost:8080/"
        },
        "id": "Y4RFhQxHys8h",
        "outputId": "073c9ed1-7030-416c-f9ed-ad9300a1e69a"
      },
      "execution_count": 28,
      "outputs": [
        {
          "output_type": "stream",
          "name": "stdout",
          "text": [
            "['Six', 'police', 'officers', 'have', 'been', 'dismissed', 'from', 'the', 'police', 'force', 'over', 'their', 'alleged', 'involvement', 'in', 'the', 'shooting', 'at', 'a', 'dinner', 'party', 'at', 'the', 'house', 'of', 'a', 'kamnan', '(', 'tambon', 'chief', ')', 'in', 'Nakhon', 'Pathom', 'on', 'Wednesday', 'night', '.', 'In', '...', 'Please', 'credit', 'and', 'share', 'this', 'article', 'with', 'others', 'using', 'this', 'link', ':', 'https', ':', '//www.bangkokpost.com/thailand/general/2644649/6-cops-sacked-over-fatal-shooting-at-wealthy-kamnans-dinner-party', '.', 'View', 'our', 'policies', 'at', 'http', ':', '//goo.gl/9HgTd', 'and', 'http', ':', '//goo.gl/ou6Ip', '.', '©', 'Bangkok', 'Post', 'PCL', '.', 'All', 'rights', 'reserved', '.']\n"
          ]
        }
      ]
    },
    {
      "cell_type": "code",
      "source": [],
      "metadata": {
        "id": "OOc8i90G2T0S"
      },
      "execution_count": null,
      "outputs": []
    }
  ]
}